{
 "cells": [
  {
   "cell_type": "markdown",
   "metadata": {},
   "source": [
    "# Introduction"
   ]
  },
  {
   "cell_type": "markdown",
   "metadata": {},
   "source": [
    "A combobox is an input field which is a **comb**ination of a normal text input field, and a drop-down list. More technically, it uses the HTML5 tag `<datalist>` to suggest options for the text input."
   ]
  },
  {
   "cell_type": "code",
   "execution_count": 1,
   "metadata": {},
   "outputs": [],
   "source": [
    "from ipycombobox import Combobox"
   ]
  },
  {
   "cell_type": "code",
   "execution_count": 2,
   "metadata": {},
   "outputs": [
    {
     "data": {
      "application/vnd.jupyter.widget-view+json": {
       "model_id": "57928c2952094356a7747ae829c59d49",
       "version_major": 2,
       "version_minor": 0
      },
      "text/plain": [
       "Combobox(value='')"
      ]
     },
     "metadata": {},
     "output_type": "display_data"
    }
   ],
   "source": [
    "# An combobox without options (bascially the same as ipywidgets.Text)\n",
    "Combobox()"
   ]
  },
  {
   "cell_type": "code",
   "execution_count": 3,
   "metadata": {},
   "outputs": [
    {
     "data": {
      "application/vnd.jupyter.widget-view+json": {
       "model_id": "5dcbe85a4a0e47acadf99d769dd77842",
       "version_major": 2,
       "version_minor": 0
      },
      "text/plain": [
       "Combobox(value='', options=('Chocolate', 'Coconut', 'Mint', 'Strawberry', 'Vanilla'))"
      ]
     },
     "metadata": {},
     "output_type": "display_data"
    }
   ],
   "source": [
    "# A combobox with a list of options\n",
    "Combobox(options=[\n",
    "    \"Chocolate\",\n",
    "    \"Coconut\",\n",
    "    \"Mint\",\n",
    "    \"Strawberry\",\n",
    "    \"Vanilla\",\n",
    "])"
   ]
  },
  {
   "cell_type": "markdown",
   "metadata": {},
   "source": [
    "Additionally to the behavior of the `<datalist>` tag, the combobox widget can optionally be set to require "
   ]
  },
  {
   "cell_type": "code",
   "execution_count": 4,
   "metadata": {},
   "outputs": [
    {
     "data": {
      "application/vnd.jupyter.widget-view+json": {
       "model_id": "fab6971e58ba44c59abf8f69bb721f05",
       "version_major": 2,
       "version_minor": 0
      },
      "text/plain": [
       "Combobox(value='', ensure_option=True, options=('Chocolate', 'Coconut', 'Mint', 'Strawberry', 'Vanilla'))"
      ]
     },
     "metadata": {},
     "output_type": "display_data"
    }
   ],
   "source": [
    "# A combobox with a list of options\n",
    "cbo = Combobox(\n",
    "    ensure_option=True,\n",
    "    options=[\n",
    "        \"Chocolate\",\n",
    "        \"Coconut\",\n",
    "        \"Mint\",\n",
    "        \"Strawberry\",\n",
    "        \"Vanilla\",\n",
    "    ]\n",
    ")\n",
    "cbo"
   ]
  },
  {
   "cell_type": "markdown",
   "metadata": {},
   "source": [
    "When `ensure_options` is set to `True`, it will only pass back the user input value to the kernel when it is valid:"
   ]
  },
  {
   "cell_type": "code",
   "execution_count": 5,
   "metadata": {},
   "outputs": [
    {
     "data": {
      "application/vnd.jupyter.widget-view+json": {
       "model_id": "2a29becb85a74144902cef087c372a02",
       "version_major": 2,
       "version_minor": 0
      },
      "text/plain": [
       "Label(value='')"
      ]
     },
     "metadata": {},
     "output_type": "display_data"
    }
   ],
   "source": [
    "from ipywidgets import Label, jslink\n",
    "label = Label()\n",
    "jslink((cbo, 'value'), (label, 'value'))\n",
    "label"
   ]
  },
  {
   "cell_type": "code",
   "execution_count": null,
   "metadata": {},
   "outputs": [],
   "source": []
  }
 ],
 "metadata": {
  "kernelspec": {
   "display_name": "Python 3",
   "language": "python",
   "name": "python3"
  },
  "language_info": {
   "codemirror_mode": {
    "name": "ipython",
    "version": 3
   },
   "file_extension": ".py",
   "mimetype": "text/x-python",
   "name": "python",
   "nbconvert_exporter": "python",
   "pygments_lexer": "ipython3",
   "version": "3.7.3"
  },
  "widgets": {
   "application/vnd.jupyter.widget-state+json": {
    "state": {
     "2a29becb85a74144902cef087c372a02": {
      "model_module": "@jupyter-widgets/controls",
      "model_module_version": "1.4.0",
      "model_name": "LabelModel",
      "state": {
       "layout": "IPY_MODEL_45d1ba7d1ca14da9a99e18ffc8bcb0f0",
       "style": "IPY_MODEL_536a6095dcec42fa9df0c0a7c0fff4ae"
      }
     },
     "45d1ba7d1ca14da9a99e18ffc8bcb0f0": {
      "model_module": "@jupyter-widgets/base",
      "model_module_version": "1.1.0",
      "model_name": "LayoutModel",
      "state": {}
     },
     "536a6095dcec42fa9df0c0a7c0fff4ae": {
      "model_module": "@jupyter-widgets/controls",
      "model_module_version": "1.4.0",
      "model_name": "DescriptionStyleModel",
      "state": {
       "description_width": ""
      }
     },
     "57928c2952094356a7747ae829c59d49": {
      "model_module": "jupyter-combobox",
      "model_module_version": "^0.1.0",
      "model_name": "ComboboxModel",
      "state": {
       "_model_module_version": "^0.1.0",
       "_view_module_version": "^0.1.0",
       "ensure_option": false,
       "layout": "IPY_MODEL_f287965a825e4d55880faf8122d00a12",
       "style": "IPY_MODEL_ce6481e2cee24f73be76ca8a2b420fc6"
      }
     },
     "5dcbe85a4a0e47acadf99d769dd77842": {
      "model_module": "jupyter-combobox",
      "model_module_version": "^0.1.0",
      "model_name": "ComboboxModel",
      "state": {
       "_model_module_version": "^0.1.0",
       "_view_module_version": "^0.1.0",
       "ensure_option": false,
       "layout": "IPY_MODEL_80de75229291440fa678afe7d29922f0",
       "options": [
        "Chocolate",
        "Coconut",
        "Mint",
        "Strawberry",
        "Vanilla"
       ],
       "style": "IPY_MODEL_aeff092c74124df381f575fcd78bb481"
      }
     },
     "80de75229291440fa678afe7d29922f0": {
      "model_module": "@jupyter-widgets/base",
      "model_module_version": "1.1.0",
      "model_name": "LayoutModel",
      "state": {}
     },
     "848353740ce7432caeba33f83f909cbc": {
      "model_module": "@jupyter-widgets/base",
      "model_module_version": "1.1.0",
      "model_name": "LayoutModel",
      "state": {}
     },
     "ad3a2d2a2a1e4a4eba368203abc56a79": {
      "model_module": "@jupyter-widgets/controls",
      "model_module_version": "1.4.0",
      "model_name": "DescriptionStyleModel",
      "state": {
       "description_width": ""
      }
     },
     "aeff092c74124df381f575fcd78bb481": {
      "model_module": "@jupyter-widgets/controls",
      "model_module_version": "1.4.0",
      "model_name": "DescriptionStyleModel",
      "state": {
       "description_width": ""
      }
     },
     "c14d98f1b0684d23b004489580adfe96": {
      "model_module": "@jupyter-widgets/controls",
      "model_module_version": "1.4.0",
      "model_name": "LinkModel",
      "state": {
       "source": [
        "IPY_MODEL_fab6971e58ba44c59abf8f69bb721f05",
        "value"
       ],
       "target": [
        "IPY_MODEL_2a29becb85a74144902cef087c372a02",
        "value"
       ]
      }
     },
     "ce6481e2cee24f73be76ca8a2b420fc6": {
      "model_module": "@jupyter-widgets/controls",
      "model_module_version": "1.4.0",
      "model_name": "DescriptionStyleModel",
      "state": {
       "description_width": ""
      }
     },
     "f287965a825e4d55880faf8122d00a12": {
      "model_module": "@jupyter-widgets/base",
      "model_module_version": "1.1.0",
      "model_name": "LayoutModel",
      "state": {}
     },
     "fab6971e58ba44c59abf8f69bb721f05": {
      "model_module": "jupyter-combobox",
      "model_module_version": "^0.1.0",
      "model_name": "ComboboxModel",
      "state": {
       "_model_module_version": "^0.1.0",
       "_view_module_version": "^0.1.0",
       "ensure_option": true,
       "layout": "IPY_MODEL_848353740ce7432caeba33f83f909cbc",
       "options": [
        "Chocolate",
        "Coconut",
        "Mint",
        "Strawberry",
        "Vanilla"
       ],
       "style": "IPY_MODEL_ad3a2d2a2a1e4a4eba368203abc56a79"
      }
     }
    },
    "version_major": 2,
    "version_minor": 0
   }
  }
 },
 "nbformat": 4,
 "nbformat_minor": 2
}
